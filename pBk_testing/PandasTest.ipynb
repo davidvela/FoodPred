{
 "cells": [
  {
   "cell_type": "markdown",
   "metadata": {},
   "source": [
    "# Dev - prediction"
   ]
  },
  {
   "cell_type": "markdown",
   "metadata": {},
   "source": [
    "Script: \n",
    "\n"
   ]
  },
  {
   "cell_type": "code",
   "execution_count": 1,
   "metadata": {},
   "outputs": [],
   "source": [
    "import pandas as pd"
   ]
  },
  {
   "cell_type": "code",
   "execution_count": 2,
   "metadata": {},
   "outputs": [],
   "source": [
    "ds = pd.DataFrame(columns=['C', 'A', 'B'])"
   ]
  },
  {
   "cell_type": "code",
   "execution_count": 6,
   "metadata": {},
   "outputs": [],
   "source": [
    "se = pd.Series(index=['C', 'A', 'B'])"
   ]
  },
  {
   "cell_type": "code",
   "execution_count": 16,
   "metadata": {},
   "outputs": [],
   "source": [
    "se[\"C\"] = 341"
   ]
  },
  {
   "cell_type": "code",
   "execution_count": 17,
   "metadata": {},
   "outputs": [
    {
     "data": {
      "text/html": [
       "<div>\n",
       "<style>\n",
       "    .dataframe thead tr:only-child th {\n",
       "        text-align: right;\n",
       "    }\n",
       "\n",
       "    .dataframe thead th {\n",
       "        text-align: left;\n",
       "    }\n",
       "\n",
       "    .dataframe tbody tr th {\n",
       "        vertical-align: top;\n",
       "    }\n",
       "</style>\n",
       "<table border=\"1\" class=\"dataframe\">\n",
       "  <thead>\n",
       "    <tr style=\"text-align: right;\">\n",
       "      <th></th>\n",
       "      <th>C</th>\n",
       "      <th>A</th>\n",
       "      <th>B</th>\n",
       "    </tr>\n",
       "  </thead>\n",
       "  <tbody>\n",
       "    <tr>\n",
       "      <th>0</th>\n",
       "      <td>343.0</td>\n",
       "      <td>NaN</td>\n",
       "      <td>NaN</td>\n",
       "    </tr>\n",
       "    <tr>\n",
       "      <th>1</th>\n",
       "      <td>343.0</td>\n",
       "      <td>NaN</td>\n",
       "      <td>NaN</td>\n",
       "    </tr>\n",
       "    <tr>\n",
       "      <th>2</th>\n",
       "      <td>343.0</td>\n",
       "      <td>NaN</td>\n",
       "      <td>NaN</td>\n",
       "    </tr>\n",
       "    <tr>\n",
       "      <th>3</th>\n",
       "      <td>342.0</td>\n",
       "      <td>NaN</td>\n",
       "      <td>NaN</td>\n",
       "    </tr>\n",
       "    <tr>\n",
       "      <th>4</th>\n",
       "      <td>341.0</td>\n",
       "      <td>NaN</td>\n",
       "      <td>NaN</td>\n",
       "    </tr>\n",
       "  </tbody>\n",
       "</table>\n",
       "</div>"
      ],
      "text/plain": [
       "       C   A   B\n",
       "0  343.0 NaN NaN\n",
       "1  343.0 NaN NaN\n",
       "2  343.0 NaN NaN\n",
       "3  342.0 NaN NaN\n",
       "4  341.0 NaN NaN"
      ]
     },
     "execution_count": 17,
     "metadata": {},
     "output_type": "execute_result"
    }
   ],
   "source": [
    "ds = ds.append(se, ignore_index=True)\n",
    "ds"
   ]
  },
  {
   "cell_type": "code",
   "execution_count": 18,
   "metadata": {},
   "outputs": [
    {
     "data": {
      "text/html": [
       "<div>\n",
       "<style>\n",
       "    .dataframe thead tr:only-child th {\n",
       "        text-align: right;\n",
       "    }\n",
       "\n",
       "    .dataframe thead th {\n",
       "        text-align: left;\n",
       "    }\n",
       "\n",
       "    .dataframe tbody tr th {\n",
       "        vertical-align: top;\n",
       "    }\n",
       "</style>\n",
       "<table border=\"1\" class=\"dataframe\">\n",
       "  <thead>\n",
       "    <tr style=\"text-align: right;\">\n",
       "      <th></th>\n",
       "      <th>C</th>\n",
       "      <th>A</th>\n",
       "      <th>B</th>\n",
       "    </tr>\n",
       "  </thead>\n",
       "  <tbody>\n",
       "    <tr>\n",
       "      <th>4</th>\n",
       "      <td>341.0</td>\n",
       "      <td>NaN</td>\n",
       "      <td>NaN</td>\n",
       "    </tr>\n",
       "    <tr>\n",
       "      <th>3</th>\n",
       "      <td>342.0</td>\n",
       "      <td>NaN</td>\n",
       "      <td>NaN</td>\n",
       "    </tr>\n",
       "    <tr>\n",
       "      <th>0</th>\n",
       "      <td>343.0</td>\n",
       "      <td>NaN</td>\n",
       "      <td>NaN</td>\n",
       "    </tr>\n",
       "    <tr>\n",
       "      <th>1</th>\n",
       "      <td>343.0</td>\n",
       "      <td>NaN</td>\n",
       "      <td>NaN</td>\n",
       "    </tr>\n",
       "    <tr>\n",
       "      <th>2</th>\n",
       "      <td>343.0</td>\n",
       "      <td>NaN</td>\n",
       "      <td>NaN</td>\n",
       "    </tr>\n",
       "  </tbody>\n",
       "</table>\n",
       "</div>"
      ],
      "text/plain": [
       "       C   A   B\n",
       "4  341.0 NaN NaN\n",
       "3  342.0 NaN NaN\n",
       "0  343.0 NaN NaN\n",
       "1  343.0 NaN NaN\n",
       "2  343.0 NaN NaN"
      ]
     },
     "execution_count": 18,
     "metadata": {},
     "output_type": "execute_result"
    }
   ],
   "source": [
    "ds.sort_values(by=\"C\", ascending=True)"
   ]
  },
  {
   "cell_type": "code",
   "execution_count": null,
   "metadata": {},
   "outputs": [],
   "source": []
  },
  {
   "cell_type": "code",
   "execution_count": null,
   "metadata": {},
   "outputs": [],
   "source": []
  },
  {
   "cell_type": "markdown",
   "metadata": {},
   "source": [
    "# test json"
   ]
  },
  {
   "cell_type": "code",
   "execution_count": 5,
   "metadata": {},
   "outputs": [],
   "source": [
    "import json"
   ]
  },
  {
   "cell_type": "code",
   "execution_count": 24,
   "metadata": {},
   "outputs": [
    {
     "name": "stdout",
     "output_type": "stream",
     "text": [
      " { \"m\":\"1\", \"100023\" : 1 }  \n",
      "26\n",
      " { \"m\":\"1\", \"100023\" : 1 }  \n",
      "[{'m': '1', '100023': 1}]\n"
     ]
    }
   ],
   "source": [
    "# json_str =   ''' { \"m\":\"1\", \"1003\" : 1 }  ''';  json_str = \"[\" + json_str + \"]\" \n",
    "json_str =   '''' { \"m\":\"1\", \"1003\" : 1 } ' ''';   \n",
    "# json_str =   '''  { \"m\":\"1\", \"1003\" : 1 }  ''';  json_str = \"[\" + json_str + \"]\" \n",
    "\n",
    "json_str = json_str.replace(\"'\", '')\n",
    "\n",
    "print(json_str)\n",
    "\n",
    "if json_str[0]==\"'\": \n",
    "    json_str = json_str[1:]\n",
    "    print(json_str)\n",
    "    \n",
    "json_last = len(json_str)-2 \n",
    "print(json_last)\n",
    "\n",
    "if json_str[json_last]==\"'\": \n",
    "    json_str = json_str[:json_last-1]\n",
    "    print(json_str)\n",
    "\n",
    "    \n",
    "print(json_str)\n",
    "\n",
    "json_str = \"[\" + json_str + \"]\"\n",
    "json_data = json.loads(json_str)\n",
    "\n",
    "print(json_data)\n",
    "   "
   ]
  },
  {
   "cell_type": "code",
   "execution_count": null,
   "metadata": {},
   "outputs": [],
   "source": [
    "    { \"m\":\"1\", \"c01\" :0.75 , \"c02\" :0.25  } "
   ]
  },
  {
   "cell_type": "code",
   "execution_count": null,
   "metadata": {},
   "outputs": [],
   "source": []
  },
  {
   "cell_type": "code",
   "execution_count": null,
   "metadata": {},
   "outputs": [],
   "source": []
  },
  {
   "cell_type": "code",
   "execution_count": 1,
   "metadata": {},
   "outputs": [],
   "source": [
    "person = {'name': 'Mary', 'age': 25, 'zzz':2, 'aa':22}\n",
    "one_year_later = {**person, 'age': 26} \n",
    "person = {**person, 'age': 28} "
   ]
  },
  {
   "cell_type": "code",
   "execution_count": 2,
   "metadata": {},
   "outputs": [
    {
     "data": {
      "text/plain": [
       "{'aa': 22, 'age': 28, 'name': 'Mary', 'zzz': 2}"
      ]
     },
     "execution_count": 2,
     "metadata": {},
     "output_type": "execute_result"
    }
   ],
   "source": [
    "person"
   ]
  },
  {
   "cell_type": "code",
   "execution_count": 3,
   "metadata": {},
   "outputs": [
    {
     "data": {
      "text/plain": [
       "{'aa': 22, 'age': 26, 'name': 'Mary', 'zzz': 2}"
      ]
     },
     "execution_count": 3,
     "metadata": {},
     "output_type": "execute_result"
    }
   ],
   "source": [
    "one_year_later"
   ]
  },
  {
   "cell_type": "code",
   "execution_count": 16,
   "metadata": {},
   "outputs": [],
   "source": [
    "person.update(one_year_later) "
   ]
  },
  {
   "cell_type": "code",
   "execution_count": 17,
   "metadata": {},
   "outputs": [
    {
     "data": {
      "text/plain": [
       "{'age': 26, 'name': 'Mary'}"
      ]
     },
     "execution_count": 17,
     "metadata": {},
     "output_type": "execute_result"
    }
   ],
   "source": [
    "person"
   ]
  },
  {
   "cell_type": "code",
   "execution_count": 12,
   "metadata": {},
   "outputs": [],
   "source": [
    "dic = {\n",
    "  \"predC4_2\": \"3-0.00\",\n",
    "  \"predC1_1\": \"73-22.25\",\n",
    "  \"predC4_0\": \"2-100.00\",\n",
    "  \"pred\": \"SEPARATION! ret_str = False!\",\n",
    "  \"predC1_4\": \"72-5.19\",\n",
    "  \"predC1_0\": \"74-32.35\",\n",
    "  \"predC1_2\": \"75-21.64\",\n",
    "  \"predC2_1\": \"0-0.00\",\n",
    "  \"predC2_0\": \"1-100.00\",\n",
    "  \"predC1_3\": \"76-11.21\",\n",
    "  \"forml\": \"{ 'm':'1', '100023' : 1 }\",\n",
    "  \"predC4_1\": \"1-0.00\"\n",
    "}"
   ]
  },
  {
   "cell_type": "code",
   "execution_count": 13,
   "metadata": {},
   "outputs": [
    {
     "data": {
      "text/plain": [
       "{'forml': \"{ 'm':'1', '100023' : 1 }\",\n",
       " 'pred': 'SEPARATION! ret_str = False!',\n",
       " 'predC1_0': '74-32.35',\n",
       " 'predC1_1': '73-22.25',\n",
       " 'predC1_2': '75-21.64',\n",
       " 'predC1_3': '76-11.21',\n",
       " 'predC1_4': '72-5.19',\n",
       " 'predC2_0': '1-100.00',\n",
       " 'predC2_1': '0-0.00',\n",
       " 'predC4_0': '2-100.00',\n",
       " 'predC4_1': '1-0.00',\n",
       " 'predC4_2': '3-0.00'}"
      ]
     },
     "execution_count": 13,
     "metadata": {},
     "output_type": "execute_result"
    }
   ],
   "source": [
    "dic"
   ]
  },
  {
   "cell_type": "code",
   "execution_count": 15,
   "metadata": {},
   "outputs": [
    {
     "data": {
      "text/plain": [
       "{'forml': \"{ 'm':'1', '100023' : 1 }\",\n",
       " 'pred': 'SEPARATION! ret_str = False!',\n",
       " 'predC1_0': '74-32.35',\n",
       " 'predC1_1': '73-22.25',\n",
       " 'predC1_2': '75-21.64',\n",
       " 'predC1_3': '76-11.21',\n",
       " 'predC1_4': '72-5.19',\n",
       " 'predC2_0': '1-100.00',\n",
       " 'predC2_1': '0-0.00',\n",
       " 'predC4_0': '2-100.00',\n",
       " 'predC4_1': '1-0.00',\n",
       " 'predC4_2': '3-0.00'}"
      ]
     },
     "execution_count": 15,
     "metadata": {},
     "output_type": "execute_result"
    }
   ],
   "source": [
    "dict(sorted(dic.items()))"
   ]
  },
  {
   "cell_type": "code",
   "execution_count": null,
   "metadata": {},
   "outputs": [],
   "source": []
  }
 ],
 "metadata": {
  "kernelspec": {
   "display_name": "Python 3",
   "language": "python",
   "name": "python3"
  },
  "language_info": {
   "codemirror_mode": {
    "name": "ipython",
    "version": 3
   },
   "file_extension": ".py",
   "mimetype": "text/x-python",
   "name": "python",
   "nbconvert_exporter": "python",
   "pygments_lexer": "ipython3",
   "version": "3.6.3"
  }
 },
 "nbformat": 4,
 "nbformat_minor": 2
}
